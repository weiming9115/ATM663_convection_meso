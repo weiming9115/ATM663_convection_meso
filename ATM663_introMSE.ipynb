{
 "cells": [
  {
   "cell_type": "markdown",
   "metadata": {
    "slideshow": {
     "slide_type": "slide"
    }
   },
   "source": [
    "<div style=\"width:1000 px\">\n",
    "\n",
    "<div style=\"float:right; width:98 px; height:98px;\">\n",
    "<img src=\"https://cdn.miami.edu/_assets-common/images/system/um-logo-gray-bg.png\" alt=\"Miami Logo\" style=\"height: 110px;\">\n",
    "</div>\n",
    "\n",
    "## <I>ATM663 mesoscale convection\n",
    "# <font color='blue'>A brief introduction of moist static energy (MSE) diagram\n",
    "<hr style=\"height:2px;\">\n",
    "### Author: Wei-Ming Tsai\n",
    "#### Feb 14, 2019 \n"
   ]
  },
  {
   "cell_type": "markdown",
   "metadata": {
    "slideshow": {
     "slide_type": "slide"
    }
   },
   "source": [
    "### Traditional demonstration for sounding : Skew-T\n",
    "##### What do we see on a tranditional Skew-T diagam? \n",
    "- isobar, iosthermal, Td, T, dry adiabats, saturated adiabats, saturated mixing ratio lines\n",
    "\n",
    "##### Some resctrictions when using Skew-T \n",
    "- Lower troposhere is squeezed, while upper levels of less interests occupy a large portion of the diagram.\n",
    "- "
   ]
  },
  {
   "cell_type": "markdown",
   "metadata": {
    "slideshow": {
     "slide_type": "slide"
    }
   },
   "source": [
    "## A better way to "
   ]
  },
  {
   "cell_type": "markdown",
   "metadata": {
    "slideshow": {
     "slide_type": "slide"
    }
   },
   "source": [
    "<img src=\"./mseplot1.png\" width=\"750\" height=\"700\">"
   ]
  },
  {
   "cell_type": "markdown",
   "metadata": {
    "slideshow": {
     "slide_type": "slide"
    }
   },
   "source": [
    "<img src=\"./mseplot2.png\" width=\"750\" height=\"700\">"
   ]
  },
  {
   "cell_type": "markdown",
   "metadata": {
    "slideshow": {
     "slide_type": "slide"
    }
   },
   "source": [
    "<img src=\"./mseplot3.png\" width=\"750\" height=\"700\">"
   ]
  },
  {
   "cell_type": "markdown",
   "metadata": {
    "slideshow": {
     "slide_type": "slide"
    }
   },
   "source": [
    "<img src=\"./mseplot4.png\" width=\"750\" height=\"700\">"
   ]
  },
  {
   "cell_type": "markdown",
   "metadata": {
    "slideshow": {
     "slide_type": "slide"
    }
   },
   "source": [
    "## Python package for MSE diagram: MSEplots\n",
    "\n",
    "- A Python package built for the moist static energy (MSE) analysis of sounding data/ model output which provides required vertical profiles of thermodynamic parameters. <br>\n",
    "- Typing \"pip install MSEplots-pkg\" in the terminal to install the lastest package on PYPI. \n",
    "\n",
    "```python\n",
    "from MSEplots import plots as mpt\n",
    ": (reading the required input)\n",
    "mpt.msed_plots(pressure,Temp,q,altitude,ent_rate=np.arange(0,2,0.05),entrain=True)\n",
    "```\n",
    "<img src='./demo.png' width=\"500\" height=\"500\">"
   ]
  },
  {
   "cell_type": "code",
   "execution_count": null,
   "metadata": {},
   "outputs": [],
   "source": []
  }
 ],
 "metadata": {
  "kernelspec": {
   "display_name": "Python 3",
   "language": "python",
   "name": "python3"
  },
  "language_info": {
   "codemirror_mode": {
    "name": "ipython",
    "version": 3
   },
   "file_extension": ".py",
   "mimetype": "text/x-python",
   "name": "python",
   "nbconvert_exporter": "python",
   "pygments_lexer": "ipython3",
   "version": "3.6.8"
  }
 },
 "nbformat": 4,
 "nbformat_minor": 2
}
